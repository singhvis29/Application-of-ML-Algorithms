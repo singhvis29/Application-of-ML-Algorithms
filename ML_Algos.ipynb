{
 "cells": [
  {
   "cell_type": "markdown",
   "metadata": {},
   "source": [
    "# CSCI-P556: Applied Machine Learning\n",
    "## Fall 2018\n",
    "### Assignment #3\n",
    "\n",
    "\n"
   ]
  },
  {
   "cell_type": "code",
   "execution_count": 290,
   "metadata": {},
   "outputs": [],
   "source": [
    "import pandas as pd\n",
    "import numpy as np\n",
    "import os\n",
    "from sklearn.linear_model import LogisticRegression\n",
    "from sklearn import metrics\n",
    "from sklearn.metrics import f1_score\n",
    "from sklearn.ensemble import RandomForestClassifier\n",
    "from sklearn.feature_selection import SelectFromModel\n",
    "from sklearn.metrics import accuracy_score\n",
    "from sklearn.discriminant_analysis import LinearDiscriminantAnalysis\n",
    "from sklearn.decomposition import PCA\n",
    "import matplotlib.pyplot as plt \n",
    "from sklearn.feature_selection import RFE\n",
    "from sklearn.neighbors import KNeighborsClassifier\n",
    "from sklearn.model_selection import GridSearchCV\n",
    "from sklearn.ensemble import GradientBoostingClassifier\n",
    "import seaborn as sns\n",
    "import warnings"
   ]
  },
  {
   "cell_type": "code",
   "execution_count": 2,
   "metadata": {},
   "outputs": [],
   "source": [
    "#os.chdir('C:/Users/singh/Documents/Acads/AML/A3/Assignment 3')"
   ]
  },
  {
   "cell_type": "markdown",
   "metadata": {},
   "source": [
    "### 1. Loading Datasets"
   ]
  },
  {
   "cell_type": "code",
   "execution_count": 3,
   "metadata": {},
   "outputs": [
    {
     "data": {
      "text/html": [
       "<div>\n",
       "<style scoped>\n",
       "    .dataframe tbody tr th:only-of-type {\n",
       "        vertical-align: middle;\n",
       "    }\n",
       "\n",
       "    .dataframe tbody tr th {\n",
       "        vertical-align: top;\n",
       "    }\n",
       "\n",
       "    .dataframe thead th {\n",
       "        text-align: right;\n",
       "    }\n",
       "</style>\n",
       "<table border=\"1\" class=\"dataframe\">\n",
       "  <thead>\n",
       "    <tr style=\"text-align: right;\">\n",
       "      <th></th>\n",
       "      <th>f1</th>\n",
       "      <th>f2</th>\n",
       "      <th>f3</th>\n",
       "      <th>f4</th>\n",
       "      <th>f5</th>\n",
       "      <th>f6</th>\n",
       "      <th>f7</th>\n",
       "      <th>f8</th>\n",
       "      <th>f9</th>\n",
       "      <th>f10</th>\n",
       "      <th>...</th>\n",
       "      <th>f491</th>\n",
       "      <th>f492</th>\n",
       "      <th>f493</th>\n",
       "      <th>f494</th>\n",
       "      <th>f495</th>\n",
       "      <th>f496</th>\n",
       "      <th>f497</th>\n",
       "      <th>f498</th>\n",
       "      <th>f499</th>\n",
       "      <th>f500</th>\n",
       "    </tr>\n",
       "  </thead>\n",
       "  <tbody>\n",
       "    <tr>\n",
       "      <th>0</th>\n",
       "      <td>485</td>\n",
       "      <td>477</td>\n",
       "      <td>537</td>\n",
       "      <td>479</td>\n",
       "      <td>452</td>\n",
       "      <td>471</td>\n",
       "      <td>491</td>\n",
       "      <td>476</td>\n",
       "      <td>475</td>\n",
       "      <td>473</td>\n",
       "      <td>...</td>\n",
       "      <td>477</td>\n",
       "      <td>481</td>\n",
       "      <td>477</td>\n",
       "      <td>485</td>\n",
       "      <td>511</td>\n",
       "      <td>485</td>\n",
       "      <td>481</td>\n",
       "      <td>479</td>\n",
       "      <td>475</td>\n",
       "      <td>496</td>\n",
       "    </tr>\n",
       "    <tr>\n",
       "      <th>1</th>\n",
       "      <td>483</td>\n",
       "      <td>458</td>\n",
       "      <td>460</td>\n",
       "      <td>487</td>\n",
       "      <td>587</td>\n",
       "      <td>475</td>\n",
       "      <td>526</td>\n",
       "      <td>479</td>\n",
       "      <td>485</td>\n",
       "      <td>469</td>\n",
       "      <td>...</td>\n",
       "      <td>463</td>\n",
       "      <td>478</td>\n",
       "      <td>487</td>\n",
       "      <td>338</td>\n",
       "      <td>513</td>\n",
       "      <td>486</td>\n",
       "      <td>483</td>\n",
       "      <td>492</td>\n",
       "      <td>510</td>\n",
       "      <td>517</td>\n",
       "    </tr>\n",
       "    <tr>\n",
       "      <th>2</th>\n",
       "      <td>487</td>\n",
       "      <td>542</td>\n",
       "      <td>499</td>\n",
       "      <td>468</td>\n",
       "      <td>448</td>\n",
       "      <td>471</td>\n",
       "      <td>442</td>\n",
       "      <td>478</td>\n",
       "      <td>480</td>\n",
       "      <td>477</td>\n",
       "      <td>...</td>\n",
       "      <td>487</td>\n",
       "      <td>481</td>\n",
       "      <td>492</td>\n",
       "      <td>650</td>\n",
       "      <td>506</td>\n",
       "      <td>501</td>\n",
       "      <td>480</td>\n",
       "      <td>489</td>\n",
       "      <td>499</td>\n",
       "      <td>498</td>\n",
       "    </tr>\n",
       "    <tr>\n",
       "      <th>3</th>\n",
       "      <td>480</td>\n",
       "      <td>491</td>\n",
       "      <td>510</td>\n",
       "      <td>485</td>\n",
       "      <td>495</td>\n",
       "      <td>472</td>\n",
       "      <td>417</td>\n",
       "      <td>474</td>\n",
       "      <td>502</td>\n",
       "      <td>476</td>\n",
       "      <td>...</td>\n",
       "      <td>491</td>\n",
       "      <td>480</td>\n",
       "      <td>474</td>\n",
       "      <td>572</td>\n",
       "      <td>454</td>\n",
       "      <td>469</td>\n",
       "      <td>475</td>\n",
       "      <td>482</td>\n",
       "      <td>494</td>\n",
       "      <td>461</td>\n",
       "    </tr>\n",
       "    <tr>\n",
       "      <th>4</th>\n",
       "      <td>484</td>\n",
       "      <td>502</td>\n",
       "      <td>528</td>\n",
       "      <td>489</td>\n",
       "      <td>466</td>\n",
       "      <td>481</td>\n",
       "      <td>402</td>\n",
       "      <td>478</td>\n",
       "      <td>487</td>\n",
       "      <td>468</td>\n",
       "      <td>...</td>\n",
       "      <td>488</td>\n",
       "      <td>479</td>\n",
       "      <td>452</td>\n",
       "      <td>435</td>\n",
       "      <td>486</td>\n",
       "      <td>508</td>\n",
       "      <td>481</td>\n",
       "      <td>504</td>\n",
       "      <td>495</td>\n",
       "      <td>511</td>\n",
       "    </tr>\n",
       "  </tbody>\n",
       "</table>\n",
       "<p>5 rows × 500 columns</p>\n",
       "</div>"
      ],
      "text/plain": [
       "    f1   f2   f3   f4   f5   f6   f7   f8   f9  f10  ...   f491  f492  f493  \\\n",
       "0  485  477  537  479  452  471  491  476  475  473  ...    477   481   477   \n",
       "1  483  458  460  487  587  475  526  479  485  469  ...    463   478   487   \n",
       "2  487  542  499  468  448  471  442  478  480  477  ...    487   481   492   \n",
       "3  480  491  510  485  495  472  417  474  502  476  ...    491   480   474   \n",
       "4  484  502  528  489  466  481  402  478  487  468  ...    488   479   452   \n",
       "\n",
       "   f494  f495  f496  f497  f498  f499  f500  \n",
       "0   485   511   485   481   479   475   496  \n",
       "1   338   513   486   483   492   510   517  \n",
       "2   650   506   501   480   489   499   498  \n",
       "3   572   454   469   475   482   494   461  \n",
       "4   435   486   508   481   504   495   511  \n",
       "\n",
       "[5 rows x 500 columns]"
      ]
     },
     "execution_count": 3,
     "metadata": {},
     "output_type": "execute_result"
    }
   ],
   "source": [
    "#Loading Test Dataset\n",
    "with open('a3-test.data', 'r') as f:\n",
    "    data_test = f.readlines()\n",
    "\n",
    "test_data=[]\n",
    "for r in data_test:\n",
    "    row = r.rstrip('\\n').rstrip(' ').split(' ')\n",
    "    test_data.append(row)\n",
    "\n",
    "test_data = pd.DataFrame(test_data)\n",
    "\n",
    "#loading Train Dataset\n",
    "with open('a3-train.data', 'r') as f:\n",
    "    data_train = f.readlines()\n",
    "    \n",
    "train_data=[]\n",
    "for r in data_train:\n",
    "    row = r.rstrip('\\n').rstrip(' ').split(' ')\n",
    "    train_data.append(row)\n",
    "    \n",
    "train_data = pd.DataFrame(train_data)\n",
    "\n",
    "#Changing column names\n",
    "col=[]\n",
    "for i in range(len(test_data.columns)):\n",
    "    c='f' + str(int(test_data.columns[i])+1)\n",
    "    col.append(c)\n",
    "\n",
    "test_data.columns = col\n",
    "train_data.columns = col\n",
    "\n",
    "train_data = train_data.astype('int64')\n",
    "test_data = test_data.astype('int64')\n",
    "\n",
    "train_data.head()"
   ] 
  },
  {
   "cell_type": "code",
   "execution_count": 4,
   "metadata": {},
   "outputs": [],
   "source": [
    "test_label = pd.read_table('a3-test.labels.txt', header=None, names=['Label'])\n",
    "train_label = pd.read_table('a3-train.labels.txt', header=None, names=['Label'])\n"
   ]
  },
  {
   "cell_type": "markdown",
   "metadata": {},
   "source": [
    "### 2. EDA"
   ]
  },
  {
   "cell_type": "code",
   "execution_count": 5,
   "metadata": {},
   "outputs": [
    {
     "name": "stdout",
     "output_type": "stream",
     "text": [
      " 1    1000\n",
      "-1    1000\n",
      "Name: Label, dtype: int64\n",
      " 1    300\n",
      "-1    300\n",
      "Name: Label, dtype: int64\n"
     ]
    }
   ],
   "source": [
    "#Checking the numbers of each class in train and test\n",
    "print(train_label['Label'].value_counts())\n",
    "print(test_label['Label'].value_counts())"
   ]
  },
  {
   "cell_type": "markdown",
   "metadata": {},
   "source": [
    "Inference: Labels are balanced in both train and test set"
   ]
  },
  {
   "cell_type": "code",
   "execution_count": 303,
   "metadata": {},
   "outputs": [
    {
     "data": {
      "image/png": "[encoded data removed]",
      "text/plain": [
       "<Figure size 1440x2880 with 10 Axes>"
      ]
     },
     "metadata": {},
     "output_type": "display_data"
    }
   ],
   "source": [
    "#Checking distribution of data\n",
    "for i,c in zip(range(len(train_data.columns[0:10])),train_data.columns[10:20]):\n",
    "    fig = plt.figure(1, figsize=(20,40))\n",
    "    fig.add_subplot(20,5,i+1)\n",
    "    sns.distplot(train_data[c], color='red', axlabel=c)\n",
    "    plt.axvline(train_data[c].mean(), c='blue')\n",
    "    plt.axvline(train_data[c].median(), c='black')"
   ]
  },
  {
   "cell_type": "markdown",
   "metadata": {},
   "source": [
    "Inference: Most of the features resemble a normal distribution with median and mean being close to each other"
   ]
  },
  {
   "cell_type": "code",
   "execution_count": 6,
   "metadata": {},
   "outputs": [
    {
     "name": "stdout",
     "output_type": "stream",
     "text": [
      "Columns with NAs and their quantity in train dataset:\n",
      "Columns with NAs and their quantity in test dataset:\n"
     ]
    }
   ],
   "source": [
    "#checking number of NAs in the test and train datasets\n",
    "print('Columns with NAs and their quantity in train dataset:')\n",
    "for c in train_data.columns:\n",
    "    if train_data[c].isna().sum() > 0:\n",
    "        print(c,train_data[c].isna().sum())\n",
    "\n",
    "print('Columns with NAs and their quantity in test dataset:')\n",
    "for c in test_data.columns:\n",
    "    if test_data[c].isna().sum() > 0:\n",
    "        print(c,test_data[c].isna().sum())\n",
    "        "
   ]
  },
  {
   "cell_type": "markdown",
   "metadata": {},
   "source": [
    "Inference: There are no NAs in the data. Therefore, we do not have to make any imputations"
   ]
  },
  {
   "cell_type": "code",
   "execution_count": 7,
   "metadata": {},
   "outputs": [],
   "source": [
    "#Checking if any column has any negative value\n",
    "for c in train_data.columns:\n",
    "    if train_data[c].any() < 0:\n",
    "        print('column in train dataset which have negative values:',c)\n",
    "        \n",
    "for c in test_data.columns:\n",
    "    if test_data[c].any() < 0:\n",
    "        print('column in test dataset which have negative values:', c)\n",
    "        \n",
    "#None of the columns in test and train datasets have negative values"
   ]
  },
  {
   "cell_type": "markdown",
   "metadata": {},
   "source": [
    "Inference: There are no negative values in the train and test dataset"
   ]
  },
  {
   "cell_type": "code",
   "execution_count": 8,
   "metadata": {},
   "outputs": [
    {
     "name": "stdout",
     "output_type": "stream",
     "text": [
      "f91 [476 477 475 478 474]\n",
      "f277 [476 475 477 478 474]\n",
      "f424 [476 475 477 474 478]\n",
      "f91 [476 475 477 478 474]\n",
      "f277 [476 477 475 478 474]\n",
      "f405 [476 478 477 475 479]\n",
      "f424 [477 476 475 478]\n"
     ]
    }
   ],
   "source": [
    "#checking columns with number  of distinct values <5\n",
    "for c in train_data.columns:\n",
    "    if len(train_data[c].unique()) <= 5:\n",
    "        print(c,train_data[c].unique())\n",
    "        \n",
    "for c in test_data.columns:\n",
    "    if len(test_data[c].unique()) <= 5:\n",
    "        print(c,test_data[c].unique())\n",
    "        \n",
    "#Can we treat these as categorical values"
   ]
  },
  {
   "cell_type": "markdown",
   "metadata": {},
   "source": [
    "Inference: There are 3 features in train dataset with less than 5 unique values. These values can be treated as categorical values depending on the kinf of values but since the values in this features are comparable to that of other features, I'm going ahead with treating them as continuous variables"
   ]
  },
  {
   "cell_type": "code",
   "execution_count": 9,
   "metadata": {},
   "outputs": [],
   "source": [
    "#Checking columns with unique identifiers\n",
    "for c in train_data.columns:\n",
    "    if len(train_data[c].unique()) == len(train_data[c]):\n",
    "        print(c)\n",
    "        \n",
    "#No column with unique identifiers"
   ]
  },
  {
   "cell_type": "markdown",
   "metadata": {},
   "source": [
    "Inference: There are no columns in train dataset with unique identifiers"
   ]
  },
  {
   "cell_type": "code",
   "execution_count": 304,
   "metadata": {},
   "outputs": [
    {
     "name": "stdout",
     "output_type": "stream",
     "text": [
      "Number of outliers in column f11 : 15\n",
      "Number of outliers in column f12 : 25\n",
      "Number of outliers in column f13 : 12\n",
      "Number of outliers in column f14 : 19\n",
      "Number of outliers in column f15 : 13\n",
      "Number of outliers in column f16 : 22\n",
      "Number of outliers in column f17 : 11\n",
      "Number of outliers in column f18 : 17\n",
      "Number of outliers in column f19 : 12\n",
      "Number of outliers in column f20 : 9\n"
     ]
    },
    {
     "data": {
      "image/png": "[encoded data removed]",
      "text/plain": [
       "<Figure size 1440x2880 with 10 Axes>"
      ]
     },
     "metadata": {},
     "output_type": "display_data"
    }
   ],
   "source": [
    "warnings.filterwarnings('ignore')\n",
    "#Checking for number of outliers in each column\n",
    "for i,c in zip(range(len(train_data.columns[0:10])),train_data.columns[10:20]):\n",
    "    iqr = train_data[c].quantile(0.75)-train_data[c].quantile(0.25)\n",
    "    fig = plt.figure(1, figsize=(20,40))\n",
    "    ub = train_data[train_data[c]>train_data[c].quantile(0.75)+1.5*iqr][c].count()\n",
    "    lb = train_data[train_data[c]<train_data[c].quantile(0.25)-1.5*iqr][c].count()\n",
    "    if ub+lb > 0 and ub+lb < 100:\n",
    "        fig.add_subplot(20,5,i+1)\n",
    "        plt.boxplot(train_data[c], 0, 'gD')\n",
    "        print('Number of outliers in column',c,':',ub+lb)        "
   ]
  },
  {
   "cell_type": "markdown",
   "metadata": {},
   "source": [
    "Above code prints the names of columns and the number of outliers* in that column if the number of outliers are <5% of the total number of values. Since by this definition most of the columns have outlier, I have not deicded to treat these because of following reasons-\n",
    "1. We do know the physical significance of the values, it might be that columns values might be an outliers according to the definition of outlier defined by us but might be a meaningful value\n",
    "2. Treating outliers in all the column might decrease the bias in the data, leading to overfitting the training data\n",
    "3. The density plots seem smooth with no outliers seeming obvious\n",
    "\n",
    "*outlier is a point which falls more than 1.5 times the interquartile range above the third quartile or below the first quartile"
   ]
  },
  {
   "cell_type": "code",
   "execution_count": 323,
   "metadata": {},
   "outputs": [
    {
     "name": "stdout",
     "output_type": "stream",
     "text": [
      "Number of pairs with correlation greater than 0.5\n",
      "47\n"
     ]
    },
    {
     "data": {
      "text/html": [
       "<div>\n",
       "<style scoped>\n",
       "    .dataframe tbody tr th:only-of-type {\n",
       "        vertical-align: middle;\n",
       "    }\n",
       "\n",
       "    .dataframe tbody tr th {\n",
       "        vertical-align: top;\n",
       "    }\n",
       "\n",
       "    .dataframe thead th {\n",
       "        text-align: right;\n",
       "    }\n",
       "</style>\n",
       "<table border=\"1\" class=\"dataframe\">\n",
       "  <thead>\n",
       "    <tr style=\"text-align: right;\">\n",
       "      <th></th>\n",
       "      <th></th>\n",
       "      <th>Correlation</th>\n",
       "    </tr>\n",
       "  </thead>\n",
       "  <tbody>\n",
       "    <tr>\n",
       "      <th>f65</th>\n",
       "      <th>f337</th>\n",
       "      <td>0.990429</td>\n",
       "    </tr>\n",
       "    <tr>\n",
       "      <th>f443</th>\n",
       "      <th>f473</th>\n",
       "      <td>0.990300</td>\n",
       "    </tr>\n",
       "    <tr>\n",
       "      <th>f29</th>\n",
       "      <th>f319</th>\n",
       "      <td>0.989628</td>\n",
       "    </tr>\n",
       "    <tr>\n",
       "      <th>f106</th>\n",
       "      <th>f129</th>\n",
       "      <td>0.989410</td>\n",
       "    </tr>\n",
       "    <tr>\n",
       "      <th>f154</th>\n",
       "      <th>f434</th>\n",
       "      <td>0.989355</td>\n",
       "    </tr>\n",
       "    <tr>\n",
       "      <th>f242</th>\n",
       "      <th>f476</th>\n",
       "      <td>0.989272</td>\n",
       "    </tr>\n",
       "    <tr>\n",
       "      <th>f29</th>\n",
       "      <th>f452</th>\n",
       "      <td>0.989168</td>\n",
       "    </tr>\n",
       "    <tr>\n",
       "      <th>f282</th>\n",
       "      <th>f434</th>\n",
       "      <td>0.989047</td>\n",
       "    </tr>\n",
       "    <tr>\n",
       "      <th>f154</th>\n",
       "      <th>f282</th>\n",
       "      <td>0.988695</td>\n",
       "    </tr>\n",
       "    <tr>\n",
       "      <th>f319</th>\n",
       "      <th>f452</th>\n",
       "      <td>0.988690</td>\n",
       "    </tr>\n",
       "    <tr>\n",
       "      <th>f454</th>\n",
       "      <th>f494</th>\n",
       "      <td>0.988458</td>\n",
       "    </tr>\n",
       "    <tr>\n",
       "      <th>f49</th>\n",
       "      <th>f379</th>\n",
       "      <td>0.988338</td>\n",
       "    </tr>\n",
       "    <tr>\n",
       "      <th>f242</th>\n",
       "      <th>f337</th>\n",
       "      <td>0.735253</td>\n",
       "    </tr>\n",
       "    <tr>\n",
       "      <th rowspan=\"2\" valign=\"top\">f65</th>\n",
       "      <th>f242</th>\n",
       "      <td>0.734728</td>\n",
       "    </tr>\n",
       "    <tr>\n",
       "      <th>f476</th>\n",
       "      <td>0.733741</td>\n",
       "    </tr>\n",
       "    <tr>\n",
       "      <th>f337</th>\n",
       "      <th>f476</th>\n",
       "      <td>0.733736</td>\n",
       "    </tr>\n",
       "    <tr>\n",
       "      <th>f129</th>\n",
       "      <th>f456</th>\n",
       "      <td>0.695884</td>\n",
       "    </tr>\n",
       "    <tr>\n",
       "      <th>f106</th>\n",
       "      <th>f456</th>\n",
       "      <td>0.695428</td>\n",
       "    </tr>\n",
       "    <tr>\n",
       "      <th>f129</th>\n",
       "      <th>f339</th>\n",
       "      <td>0.685630</td>\n",
       "    </tr>\n",
       "    <tr>\n",
       "      <th>f106</th>\n",
       "      <th>f339</th>\n",
       "      <td>0.684663</td>\n",
       "    </tr>\n",
       "    <tr>\n",
       "      <th>f443</th>\n",
       "      <th>f452</th>\n",
       "      <td>0.661844</td>\n",
       "    </tr>\n",
       "    <tr>\n",
       "      <th>f452</th>\n",
       "      <th>f473</th>\n",
       "      <td>0.661783</td>\n",
       "    </tr>\n",
       "    <tr>\n",
       "      <th rowspan=\"2\" valign=\"top\">f319</th>\n",
       "      <th>f443</th>\n",
       "      <td>0.660870</td>\n",
       "    </tr>\n",
       "    <tr>\n",
       "      <th>f473</th>\n",
       "      <td>0.660277</td>\n",
       "    </tr>\n",
       "    <tr>\n",
       "      <th rowspan=\"2\" valign=\"top\">f29</th>\n",
       "      <th>f443</th>\n",
       "      <td>0.658747</td>\n",
       "    </tr>\n",
       "    <tr>\n",
       "      <th>f473</th>\n",
       "      <td>0.658576</td>\n",
       "    </tr>\n",
       "    <tr>\n",
       "      <th rowspan=\"2\" valign=\"top\">f339</th>\n",
       "      <th>f443</th>\n",
       "      <td>0.648568</td>\n",
       "    </tr>\n",
       "    <tr>\n",
       "      <th>f473</th>\n",
       "      <td>0.646701</td>\n",
       "    </tr>\n",
       "    <tr>\n",
       "      <th>f456</th>\n",
       "      <th>f494</th>\n",
       "      <td>0.635489</td>\n",
       "    </tr>\n",
       "    <tr>\n",
       "      <th>f454</th>\n",
       "      <th>f456</th>\n",
       "      <td>0.632738</td>\n",
       "    </tr>\n",
       "    <tr>\n",
       "      <th>f154</th>\n",
       "      <th>f339</th>\n",
       "      <td>0.631448</td>\n",
       "    </tr>\n",
       "    <tr>\n",
       "      <th>f282</th>\n",
       "      <th>f339</th>\n",
       "      <td>0.630107</td>\n",
       "    </tr>\n",
       "    <tr>\n",
       "      <th>f339</th>\n",
       "      <th>f434</th>\n",
       "      <td>0.628206</td>\n",
       "    </tr>\n",
       "    <tr>\n",
       "      <th>f337</th>\n",
       "      <th>f456</th>\n",
       "      <td>0.622168</td>\n",
       "    </tr>\n",
       "    <tr>\n",
       "      <th>f65</th>\n",
       "      <th>f456</th>\n",
       "      <td>0.621216</td>\n",
       "    </tr>\n",
       "    <tr>\n",
       "      <th>f339</th>\n",
       "      <th>f476</th>\n",
       "      <td>0.597291</td>\n",
       "    </tr>\n",
       "    <tr>\n",
       "      <th>f242</th>\n",
       "      <th>f339</th>\n",
       "      <td>0.590276</td>\n",
       "    </tr>\n",
       "    <tr>\n",
       "      <th>f129</th>\n",
       "      <th>f337</th>\n",
       "      <td>0.575316</td>\n",
       "    </tr>\n",
       "    <tr>\n",
       "      <th>f65</th>\n",
       "      <th>f129</th>\n",
       "      <td>0.574244</td>\n",
       "    </tr>\n",
       "    <tr>\n",
       "      <th>f106</th>\n",
       "      <th>f337</th>\n",
       "      <td>0.573450</td>\n",
       "    </tr>\n",
       "    <tr>\n",
       "      <th>f65</th>\n",
       "      <th>f106</th>\n",
       "      <td>0.572368</td>\n",
       "    </tr>\n",
       "    <tr>\n",
       "      <th>f282</th>\n",
       "      <th>f454</th>\n",
       "      <td>0.562960</td>\n",
       "    </tr>\n",
       "    <tr>\n",
       "      <th>f434</th>\n",
       "      <th>f454</th>\n",
       "      <td>0.559385</td>\n",
       "    </tr>\n",
       "    <tr>\n",
       "      <th>f282</th>\n",
       "      <th>f494</th>\n",
       "      <td>0.558778</td>\n",
       "    </tr>\n",
       "    <tr>\n",
       "      <th>f154</th>\n",
       "      <th>f454</th>\n",
       "      <td>0.556635</td>\n",
       "    </tr>\n",
       "    <tr>\n",
       "      <th>f434</th>\n",
       "      <th>f494</th>\n",
       "      <td>0.554567</td>\n",
       "    </tr>\n",
       "    <tr>\n",
       "      <th>f154</th>\n",
       "      <th>f494</th>\n",
       "      <td>0.551599</td>\n",
       "    </tr>\n",
       "  </tbody>\n",
       "</table>\n",
       "</div>"
      ],
      "text/plain": [
       "           Correlation\n",
       "f65  f337     0.990429\n",
       "f443 f473     0.990300\n",
       "f29  f319     0.989628\n",
       "f106 f129     0.989410\n",
       "f154 f434     0.989355\n",
       "f242 f476     0.989272\n",
       "f29  f452     0.989168\n",
       "f282 f434     0.989047\n",
       "f154 f282     0.988695\n",
       "f319 f452     0.988690\n",
       "f454 f494     0.988458\n",
       "f49  f379     0.988338\n",
       "f242 f337     0.735253\n",
       "f65  f242     0.734728\n",
       "     f476     0.733741\n",
       "f337 f476     0.733736\n",
       "f129 f456     0.695884\n",
       "f106 f456     0.695428\n",
       "f129 f339     0.685630\n",
       "f106 f339     0.684663\n",
       "f443 f452     0.661844\n",
       "f452 f473     0.661783\n",
       "f319 f443     0.660870\n",
       "     f473     0.660277\n",
       "f29  f443     0.658747\n",
       "     f473     0.658576\n",
       "f339 f443     0.648568\n",
       "     f473     0.646701\n",
       "f456 f494     0.635489\n",
       "f454 f456     0.632738\n",
       "f154 f339     0.631448\n",
       "f282 f339     0.630107\n",
       "f339 f434     0.628206\n",
       "f337 f456     0.622168\n",
       "f65  f456     0.621216\n",
       "f339 f476     0.597291\n",
       "f242 f339     0.590276\n",
       "f129 f337     0.575316\n",
       "f65  f129     0.574244\n",
       "f106 f337     0.573450\n",
       "f65  f106     0.572368\n",
       "f282 f454     0.562960\n",
       "f434 f454     0.559385\n",
       "f282 f494     0.558778\n",
       "f154 f454     0.556635\n",
       "f434 f494     0.554567\n",
       "f154 f494     0.551599"
      ]
     },
     "execution_count": 323,
     "metadata": {},
     "output_type": "execute_result"
    }
   ],
   "source": [
    "#Checking correlation between variables\n",
    "def get_redundant_pairs(df):\n",
    "    '''Get diagonal and lower triangular pairs of correlation matrix'''\n",
    "    pairs_to_drop = set()\n",
    "    cols = df.columns\n",
    "    for i in range(0, df.shape[1]):\n",
    "        for j in range(0, i+1):\n",
    "            pairs_to_drop.add((cols[i], cols[j]))\n",
    "    return pairs_to_drop\n",
    "\n",
    "def get_top_abs_correlations(df, t):\n",
    "    au_corr = df.corr().abs().unstack()\n",
    "    labels_to_drop = get_redundant_pairs(df)\n",
    "    au_corr = au_corr.drop(labels=labels_to_drop).sort_values(ascending=False)\n",
    "    return au_corr[au_corr>t]\n",
    "\n",
    "t = 0.5\n",
    "print('Number of pairs with correlation greater than '+str(t))\n",
    "corr_pairs_df = pd.DataFrame(get_top_abs_correlations(train_data, t), columns=['Correlation'])\n",
    "corr_f = list(set(corr_pairs_df.index.get_level_values(1)))\n",
    "train_data_corr = train_data.drop(corr_f, axis=1)\n",
    "test_data_corr = test_data.drop(corr_f, axis=1)\n",
    "print(len(corr_pairs_df))\n",
    "corr_pairs_df\n",
    "\n",
    "#Choose only one out of highly correlated pairs"
   ]
  },
  {
   "cell_type": "markdown",
   "metadata": {},
   "source": [
    "Inference: There are 47 pairs with correlation greater than 0.5.<br>\n",
    "One of the features from these pairs has been removed from the original dataset to create a new dataset which excluded the highly correlated pairs"
   ]
  },
  {
   "cell_type": "code",
   "execution_count": 11,
   "metadata": {},
   "outputs": [],
   "source": [
    "#Function for Normalizing\n",
    "def normalize(df):\n",
    "    col_mean = df.mean()\n",
    "    \n",
    "    df = df.sub(col_mean)\n",
    "    \n",
    "    col_std = df.std()\n",
    "    \n",
    "    df = df.div(col_std)\n",
    "    \n",
    "    return df"
   ]
  },
  {
   "cell_type": "code",
   "execution_count": 28,
   "metadata": {},
   "outputs": [],
   "source": [
    "#Normalizing training and testing datasets\n",
    "train_data_norm = normalize(train_data)\n",
    "test_data_norm = normalize(test_data)"
   ]
  },
  {
   "cell_type": "markdown",
   "metadata": {},
   "source": [
    "### Logistic Regression"
   ]
  },
  {
   "cell_type": "code",
   "execution_count": 29,
   "metadata": {},
   "outputs": [
    {
     "data": {
      "text/plain": [
       "LogisticRegression(C=1.0, class_weight=None, dual=False, fit_intercept=True,\n",
       "          intercept_scaling=1, max_iter=100, multi_class='ovr', n_jobs=1,\n",
       "          penalty='l2', random_state=None, solver='liblinear', tol=0.0001,\n",
       "          verbose=0, warm_start=False)"
      ]
     },
     "execution_count": 29,
     "metadata": {},
     "output_type": "execute_result"
    }
   ],
   "source": [
    "#Baseline Logistic Regression model\n",
    "LRmodel = LogisticRegression()\n",
    "LRmodel.fit(train_data_norm, train_label['Label'])"
   ]
  },
  {
   "cell_type": "code",
   "execution_count": 207,
   "metadata": {},
   "outputs": [
    {
     "name": "stdout",
     "output_type": "stream",
     "text": [
      "Baseline Logistic Regression accuracy on train data: 74.05000000000001\n"
     ]
    }
   ],
   "source": [
    "#Calculate the training score \n",
    "train_score = LRmodel.score(train_data_norm, train_label)*100\n",
    "print('Baseline Logistic Regression accuracy on train data:',train_score)"
   ]
  },
  {
   "cell_type": "code",
   "execution_count": 208,
   "metadata": {},
   "outputs": [],
   "source": [
    "#Using the LRmodel to predict dependent variable values using test data\n",
    "LRpredict = LRmodel.predict(test_data_norm)"
   ]
  },
  {
   "cell_type": "code",
   "execution_count": 209,
   "metadata": {},
   "outputs": [
    {
     "name": "stdout",
     "output_type": "stream",
     "text": [
      "Baseline Logistic Regression accuracy on test data: 57.99999999999999\n"
     ]
    }
   ],
   "source": [
    "#Accuracy of model\n",
    "accuracy_score = metrics.accuracy_score(test_label['Label'], LRpredict)*100\n",
    "print('Baseline Logistic Regression accuracy on test data:',accuracy_score)"
   ]
  },
  {
   "cell_type": "code",
   "execution_count": 33,
   "metadata": {},
   "outputs": [],
   "source": [
    "#Normalizing training and testing datasets after removing one of highly correlated pairs\n",
    "train_data_corr_norm = normalize(train_data_corr)\n",
    "test_data_corr_norm = normalize(test_data_corr)"
   ]
  },
  {
   "cell_type": "code",
   "execution_count": 34,
   "metadata": {},
   "outputs": [
    {
     "data": {
      "text/plain": [
       "LogisticRegression(C=0.1, class_weight=None, dual=False, fit_intercept=True,\n",
       "          intercept_scaling=1, max_iter=100, multi_class='ovr', n_jobs=1,\n",
       "          penalty='l2', random_state=None, solver='liblinear', tol=0.0001,\n",
       "          verbose=0, warm_start=False)"
      ]
     },
     "execution_count": 34,
     "metadata": {},
     "output_type": "execute_result"
    }
   ],
   "source": [
    "#Training Logistic Regression model after removing one of the highly correlated pair\n",
    "LRmodel2 = LogisticRegression(penalty='l2', C=0.1)\n",
    "LRmodel2.fit(train_data_corr_norm, train_label['Label'])"
   ]
  },
  {
   "cell_type": "code",
   "execution_count": 35,
   "metadata": {},
   "outputs": [],
   "source": [
    "#Using the LRmodel2 to predict dependent variable values using test data\n",
    "LRpredict2 = LRmodel2.predict(test_data_corr_norm)"
   ]
  },
  {
   "cell_type": "code",
   "execution_count": 211,
   "metadata": {},
   "outputs": [
    {
     "name": "stdout",
     "output_type": "stream",
     "text": [
      "Accuracy of Logistic Regression Model which is trained after excluding correlated pairs: 56.00000000000001\n"
     ]
    }
   ],
   "source": [
    "#Accuracy of model LRmodel2\n",
    "accuracy_score2 = metrics.accuracy_score(test_label['Label'], LRpredict2)*100\n",
    "print('Accuracy of Logistic Regression Model which is trained after excluding correlated pairs:',accuracy_score2)\n",
    "\n",
    "##Accuracy decreases"
   ]
  },
  {
   "cell_type": "code",
   "execution_count": 340,
   "metadata": {},
   "outputs": [
    {
     "name": "stdout",
     "output_type": "stream",
     "text": [
      "maximum accuracy of 62.83333333333333 is obtained for k= 4\n"
     ]
    },
    {
     "data": {
      "image/png": "[encoded data removed]",
      "text/plain": [
       "<Figure size 432x288 with 1 Axes>"
      ]
     },
     "metadata": {},
     "output_type": "display_data"
    }
   ],
   "source": [
    "from sklearn.feature_selection import SelectKBest\n",
    "#Selecting K Best Features\n",
    "kbar=range(1,25,1)\n",
    "max_acc=0\n",
    "best_k=0\n",
    "acc_score_kbest=[]\n",
    "for i in kbar:\n",
    "    kbest_features = SelectKBest(k=i)\n",
    "    train_data_norm_kbest = kbest_features.fit_transform(train_data_norm, train_label['Label'])\n",
    "    test_data_norm_kbest = kbest_features.transform(test_data_norm)\n",
    "\n",
    "    #Implementing Logistic Regression using the best features obtained above\n",
    "    lr_kbest = LogisticRegression(penalty='l2', C=0.1)\n",
    "    lr_kbest.fit(train_data_norm_kbest, train_label['Label'])\n",
    "\n",
    "    pred_lr_kbest = lr_kbest.predict(test_data_norm_kbest)\n",
    "\n",
    "    #Checking accuracy\n",
    "    acc = metrics.accuracy_score(test_label['Label'], pred_lr_kbest)*100\n",
    "    if acc>max_acc:\n",
    "            max_acc=acc\n",
    "            best_k=i\n",
    "            #best_k_features = SelectKBest(k=i)\n",
    "    acc_score_kbest.append(acc)\n",
    "    \n",
    "plt.plot(kbar,acc_score_kbest)\n",
    "plt.xlabel('K Best Features')\n",
    "plt.ylabel('Accuracy')\n",
    "print('maximum accuracy of',max_acc,'is obtained for k=',best_k)\n",
    "\n"
   ]
  },
  {
   "cell_type": "markdown",
   "metadata": {},
   "source": [
    "'SelectKBest' feature selection method is used  to select K best features from the dataset. Best accuracy of 62.83% is obtained at k=4"
   ]
  },
  {
   "cell_type": "code",
   "execution_count": 337,
   "metadata": {},
   "outputs": [
    {
     "name": "stdout",
     "output_type": "stream",
     "text": [
      "maximum accuracy of 59.833333333333336 is obtained for number of components= 1\n",
      "explained variance using 1 component(s) from PCA: 0.014780644251246053\n"
     ]
    }
   ],
   "source": [
    "#Implementing PCA\n",
    "# n_pca = range(1,500)\n",
    "# max_acc=0\n",
    "# best_n=0\n",
    "# acc_score_nbest=[]\n",
    "# for n in n_pca:\n",
    "n=1\n",
    "pca=PCA(n_components=n)\n",
    "train_data_pca = pca.fit_transform(train_data_norm)\n",
    "test_data_pca = pca.fit_transform(test_data_norm)\n",
    "\n",
    "#Logistic Regression using PCA features\n",
    "lr_pca = LogisticRegression()\n",
    "lr_pca.fit(train_data_pca,train_label['Label'])\n",
    "pred_lr_pca = lr_pca.predict(test_data_pca)\n",
    "\n",
    "#Checking accuracy score\n",
    "acc = metrics.accuracy_score(test_label['Label'], pred_lr_pca)*100\n",
    "#if acc>max_acc:\n",
    "max_acc=acc\n",
    "best_n=n\n",
    "#best_k_features = SelectKBest(k=i)\n",
    "explained_variance = pca.explained_variance_ratio_\n",
    "exp_var = explained_variance.sum()\n",
    "acc_score_nbest.append(acc)\n",
    "    \n",
    "#plt.plot(n_pca,acc_score_nbest)\n",
    "print('maximum accuracy of',max_acc,'is obtained for number of components=',best_n)\n",
    "print('explained variance using', best_n, 'component(s) from PCA:',exp_var)\n",
    "\n",
    "#The maximum accuracy is obtained by Logistic Regression Model trained using just the first principal component\n",
    "#even though the variance explained is very less"
   ]
  },
  {
   "attachments": {
    "pca.png": {
     "image/png": "[encoded data removed]"
    }
   },
   "cell_type": "markdown",
   "metadata": {},
   "source": [
    "![pca.png](attachment:pca.png)"
   ]
  },
  {
   "cell_type": "code",
   "execution_count": 341,
   "metadata": {},
   "outputs": [],
   "source": [
    "#Using Recursive feature elimination to search for beast features\n",
    "rfe_model = LogisticRegression()\n",
    "rfe = RFE(rfe_model, 20)\n",
    "rfe = rfe.fit(train_data_norm, train_label['Label'])\n",
    "rfe_cols = train_data_norm.columns[rfe.support_]\n",
    "train_data_norm_rfe = train_data_norm[rfe_cols]\n",
    "test_data_norm_rfe = test_data_norm[rfe_cols]"
   ]
  },
  {
   "cell_type": "code",
   "execution_count": 342,
   "metadata": {},
   "outputs": [
    {
     "name": "stdout",
     "output_type": "stream",
     "text": [
      "Accuracy obtained using Recrsive Feature Elimination: 58.166666666666664\n"
     ]
    }
   ],
   "source": [
    "LR_model_rfe = LogisticRegression(penalty='l2', C=0.1)\n",
    "LR_model_rfe.fit(train_data_norm_rfe,train_label['Label'])\n",
    "pred_lr_rfe = LR_model_rfe.predict(test_data_norm_rfe)\n",
    "\n",
    "acc_score_rfe = metrics.accuracy_score(test_label['Label'],pred_lr_rfe)*100\n",
    "print('Accuracy obtained using Recrsive Feature Elimination:',acc_score_rfe)"
   ]
  },
  {
   "cell_type": "markdown",
   "metadata": {},
   "source": [
    "Logistic Regression<br>\n",
    "Conclusion: Maximum accuracy obtained using Logistic Regression is 62.5%, which is obtained by selecting best 3 features from the dataset"
   ]
  },
  {
   "cell_type": "markdown",
   "metadata": {},
   "source": [
    "### Random Forest Classifier"
   ]
  },
  {
   "cell_type": "code",
   "execution_count": 144,
   "metadata": {},
   "outputs": [
    {
     "data": {
      "text/plain": [
       "RandomForestClassifier(bootstrap=True, class_weight=None, criterion='gini',\n",
       "            max_depth=None, max_features='auto', max_leaf_nodes=None,\n",
       "            min_impurity_decrease=0.0, min_impurity_split=None,\n",
       "            min_samples_leaf=1, min_samples_split=2,\n",
       "            min_weight_fraction_leaf=0.0, n_estimators=10, n_jobs=-1,\n",
       "            oob_score=False, random_state=0, verbose=0, warm_start=False)"
      ]
     },
     "execution_count": 144,
     "metadata": {},
     "output_type": "execute_result"
    }
   ],
   "source": [
    "##Implementing baseline Random Forest Classifier\n",
    "RFmodel = RandomForestClassifier(random_state=0, n_jobs=-1)\n",
    "\n",
    "RFmodel.fit(train_data_norm, train_label['Label'])"
   ]
  },
  {
   "cell_type": "code",
   "execution_count": 228,
   "metadata": {},
   "outputs": [
    {
     "name": "stdout",
     "output_type": "stream",
     "text": [
      "accuracy obtained using baseline RF classifier: 61.83333333333333\n"
     ]
    }
   ],
   "source": [
    "# Applying the full featured classifier to the test data\n",
    "test_label_RF = RFmodel.predict(test_data_norm)\n",
    "\n",
    "# Accuracy of full featured model\n",
    "acc_RF = metrics.accuracy_score(test_label['Label'], test_label_RF)\n",
    "print('accuracy obtained using baseline RF classifier:',acc_RF*100)"
   ]
  },
  {
   "cell_type": "code",
   "execution_count": 204,
   "metadata": {},
   "outputs": [
    {
     "name": "stdout",
     "output_type": "stream",
     "text": [
      "Important Features obtained from random forest: [338 336 241 472 453  48 475 451 442 105 128  64 281 433 208 318 272  89]\n",
      "Accuracy using important features in random forest: 89.83333333333333\n"
     ]
    }
   ],
   "source": [
    "#Testing feature importance\n",
    "n_features=18\n",
    "rf_imp_features = RFmodel.feature_importances_.argsort()[::-1][:n_features]\n",
    "print('Important Features obtained from random forest:',rf_imp_features)\n",
    "\n",
    "train_rf_imp_data = train_data_norm.iloc[:,rf_imp_features]\n",
    "\n",
    "#Training  RF model on important features\n",
    "rf_imp = RandomForestClassifier(n_estimators=1000, random_state=0, n_jobs=-1)\n",
    "rf_imp.fit(train_rf_imp_data, train_label['Label'])\n",
    "\n",
    "test_rf_imp_data = test_data_norm.iloc[:,rf_imp_features]\n",
    "test_label_rf_imp = rf_imp.predict(test_rf_imp_data)\n",
    "\n",
    "acc_rf_imp = metrics.accuracy_score(test_label['Label'], test_label_rf_imp)\n",
    "\n",
    "print('Accuracy using important features in random forest:',acc_rf_imp*100)"
   ]
  },
  {
   "cell_type": "markdown",
   "metadata": {},
   "source": [
    "Best values of 'n_features' is obtained using iteration over values of n_iteration<br>\n",
    "In this tuning best features are selected using the feature importance of Random Forest and another RF model is trained based on only those features. It gives an accuracy score of 89.83%"
   ]
  },
  {
   "cell_type": "code",
   "execution_count": 234,
   "metadata": {},
   "outputs": [
    {
     "name": "stdout",
     "output_type": "stream",
     "text": [
      "           Correlation\n",
      "f337 f65      0.990429\n",
      "f473 f443     0.990300\n",
      "f106 f129     0.989410\n",
      "f242 f476     0.989272\n",
      "f282 f434     0.989047\n",
      "f452 f319     0.988690\n",
      "f337 f242     0.735253\n",
      "f242 f65      0.734728\n",
      "f476 f65      0.733741\n",
      "f337 f476     0.733736\n",
      "correlation matric of the important features obtained from Random Forest\n"
     ]
    },
    {
     "data": {
      "text/plain": [
       "<matplotlib.axes._subplots.AxesSubplot at 0x2380a98e240>"
      ]
     },
     "execution_count": 234,
     "metadata": {},
     "output_type": "execute_result"
    },
    {
     "data": {
      "image/png": "[encoded data removed]",
      "text/plain": [
       "<Figure size 432x288 with 2 Axes>"
      ]
     },
     "metadata": {},
     "output_type": "display_data"
    }
   ],
   "source": [
    "#Correlation between best features obtained from Random Forest\n",
    "t=0.7\n",
    "corr_pairs_rf_df = pd.DataFrame(get_top_abs_correlations(train_rf_imp_data, t), columns=['Correlation'])\n",
    "print(corr_pairs_rf_df)\n",
    "\n",
    "print('correlation matric of the important features obtained from Random Forest')\n",
    "sns.heatmap(train_rf_imp_data.corr())\n"
   ]
  },
  {
   "cell_type": "code",
   "execution_count": 232,
   "metadata": {},
   "outputs": [
    {
     "name": "stdout",
     "output_type": "stream",
     "text": [
      "           Correlation\n",
      "f337 f65      0.990429\n",
      "f473 f443     0.990300\n",
      "f106 f129     0.989410\n",
      "f242 f476     0.989272\n",
      "f282 f434     0.989047\n",
      "f452 f319     0.988690\n",
      "f337 f242     0.735253\n",
      "f242 f65      0.734728\n",
      "f476 f65      0.733741\n",
      "f337 f476     0.733736\n"
     ]
    },
    {
     "data": {
      "text/html": [
       "<div>\n",
       "<style scoped>\n",
       "    .dataframe tbody tr th:only-of-type {\n",
       "        vertical-align: middle;\n",
       "    }\n",
       "\n",
       "    .dataframe tbody tr th {\n",
       "        vertical-align: top;\n",
       "    }\n",
       "\n",
       "    .dataframe thead th {\n",
       "        text-align: right;\n",
       "    }\n",
       "</style>\n",
       "<table border=\"1\" class=\"dataframe\">\n",
       "  <thead>\n",
       "    <tr style=\"text-align: right;\">\n",
       "      <th></th>\n",
       "      <th>f339</th>\n",
       "      <th>f337</th>\n",
       "      <th>f473</th>\n",
       "      <th>f454</th>\n",
       "      <th>f49</th>\n",
       "      <th>f452</th>\n",
       "      <th>f106</th>\n",
       "      <th>f282</th>\n",
       "      <th>f209</th>\n",
       "      <th>f273</th>\n",
       "      <th>f90</th>\n",
       "      <th>f360</th>\n",
       "    </tr>\n",
       "  </thead>\n",
       "  <tbody>\n",
       "    <tr>\n",
       "      <th>0</th>\n",
       "      <td>1.315334</td>\n",
       "      <td>1.694319</td>\n",
       "      <td>0.778339</td>\n",
       "      <td>-0.091886</td>\n",
       "      <td>-1.046263</td>\n",
       "      <td>-1.574452</td>\n",
       "      <td>-2.386303</td>\n",
       "      <td>0.729101</td>\n",
       "      <td>0.663140</td>\n",
       "      <td>-0.808347</td>\n",
       "      <td>-1.124771</td>\n",
       "      <td>-0.369948</td>\n",
       "    </tr>\n",
       "    <tr>\n",
       "      <th>1</th>\n",
       "      <td>0.283926</td>\n",
       "      <td>-0.113582</td>\n",
       "      <td>-0.346363</td>\n",
       "      <td>-1.501984</td>\n",
       "      <td>0.325489</td>\n",
       "      <td>-0.387693</td>\n",
       "      <td>-0.528321</td>\n",
       "      <td>-0.868928</td>\n",
       "      <td>-2.130989</td>\n",
       "      <td>-0.714431</td>\n",
       "      <td>0.348682</td>\n",
       "      <td>-1.099748</td>\n",
       "    </tr>\n",
       "    <tr>\n",
       "      <th>2</th>\n",
       "      <td>-0.716540</td>\n",
       "      <td>-0.151845</td>\n",
       "      <td>0.103518</td>\n",
       "      <td>1.097885</td>\n",
       "      <td>-0.581263</td>\n",
       "      <td>0.367518</td>\n",
       "      <td>0.675652</td>\n",
       "      <td>1.079887</td>\n",
       "      <td>1.221966</td>\n",
       "      <td>-0.503120</td>\n",
       "      <td>-0.820725</td>\n",
       "      <td>-0.588888</td>\n",
       "    </tr>\n",
       "    <tr>\n",
       "      <th>3</th>\n",
       "      <td>-1.273500</td>\n",
       "      <td>-0.792741</td>\n",
       "      <td>-0.526316</td>\n",
       "      <td>0.560285</td>\n",
       "      <td>1.022990</td>\n",
       "      <td>-0.603467</td>\n",
       "      <td>1.456004</td>\n",
       "      <td>0.904494</td>\n",
       "      <td>0.973599</td>\n",
       "      <td>2.924817</td>\n",
       "      <td>-0.165857</td>\n",
       "      <td>-0.102355</td>\n",
       "    </tr>\n",
       "    <tr>\n",
       "      <th>4</th>\n",
       "      <td>0.087958</td>\n",
       "      <td>-0.917094</td>\n",
       "      <td>0.440928</td>\n",
       "      <td>-0.488476</td>\n",
       "      <td>-1.302014</td>\n",
       "      <td>-0.603467</td>\n",
       "      <td>-0.379682</td>\n",
       "      <td>-0.459677</td>\n",
       "      <td>0.228498</td>\n",
       "      <td>1.116932</td>\n",
       "      <td>1.377761</td>\n",
       "      <td>1.235613</td>\n",
       "    </tr>\n",
       "  </tbody>\n",
       "</table>\n",
       "</div>"
      ],
      "text/plain": [
       "       f339      f337      f473      f454       f49      f452      f106  \\\n",
       "0  1.315334  1.694319  0.778339 -0.091886 -1.046263 -1.574452 -2.386303   \n",
       "1  0.283926 -0.113582 -0.346363 -1.501984  0.325489 -0.387693 -0.528321   \n",
       "2 -0.716540 -0.151845  0.103518  1.097885 -0.581263  0.367518  0.675652   \n",
       "3 -1.273500 -0.792741 -0.526316  0.560285  1.022990 -0.603467  1.456004   \n",
       "4  0.087958 -0.917094  0.440928 -0.488476 -1.302014 -0.603467 -0.379682   \n",
       "\n",
       "       f282      f209      f273       f90      f360  \n",
       "0  0.729101  0.663140 -0.808347 -1.124771 -0.369948  \n",
       "1 -0.868928 -2.130989 -0.714431  0.348682 -1.099748  \n",
       "2  1.079887  1.221966 -0.503120 -0.820725 -0.588888  \n",
       "3  0.904494  0.973599  2.924817 -0.165857 -0.102355  \n",
       "4 -0.459677  0.228498  1.116932  1.377761  1.235613  "
      ]
     },
     "execution_count": 232,
     "metadata": {},
     "output_type": "execute_result"
    }
   ],
   "source": [
    "#Removing one of the features which are highly correlated\n",
    "corr_rf = list(set(corr_pairs_rf_df.index.get_level_values(1)))\n",
    "train_data_corr_rf = train_rf_imp_data.drop(corr_rf, axis=1)\n",
    "test_data_corr_rf = test_rf_imp_data.drop(corr_rf, axis=1)\n",
    "print(corr_pairs_rf_df)\n",
    "train_data_corr_rf.head()\n"
   ]
  },
  {
   "cell_type": "code",
   "execution_count": 235,
   "metadata": {},
   "outputs": [
    {
     "name": "stdout",
     "output_type": "stream",
     "text": [
      "Accuracy using important features in random forest after removing one of corr pairs: 87.5\n"
     ]
    }
   ],
   "source": [
    "#Training RF model after removing one of highly correlated pairs\n",
    "rf_imp_corr = RandomForestClassifier(n_estimators=1000, random_state=0, n_jobs=-1)\n",
    "rf_imp_corr.fit(train_data_corr_rf, train_label['Label'])\n",
    "\n",
    "test_label_rf_imp_corr = rf_imp_corr.predict(test_data_corr_rf)\n",
    "\n",
    "acc_rf_imp_corr = metrics.accuracy_score(test_label['Label'], test_label_rf_imp_corr)\n",
    "\n",
    "print('Accuracy using important features in random forest after removing one of corr pairs:',acc_rf_imp_corr*100)\n",
    "\n",
    "#Accuracy Decreses by 0.5"
   ]
  },
  {
   "cell_type": "markdown",
   "metadata": {},
   "source": [
    "Therefore, accuracy decreses by ~1% on removing one of highly correlated pairs from important features"
   ]
  },
  {
   "cell_type": "markdown",
   "metadata": {},
   "source": [
    "#### Attempt to find best parameters using Grid Search CV"
   ]
  },
  {
   "cell_type": "code",
   "execution_count": 236,
   "metadata": {},
   "outputs": [],
   "source": [
    "##Iternation 1\n",
    "#Defining parameters for Grid Search Cross Validation\n",
    "parameters_rf = {\n",
    "                'max_depth': [5,10,15,25,50,100],\n",
    "                'max_features': [9],\n",
    "                'n_estimators': [600]\n",
    "                }"
   ]
  },
  {
   "cell_type": "code",
   "execution_count": 237,
   "metadata": {},
   "outputs": [
    {
     "data": {
      "text/plain": [
       "0.869"
      ]
     },
     "execution_count": 237,
     "metadata": {},
     "output_type": "execute_result"
    }
   ],
   "source": [
    "cv_score_rf=GridSearchCV(rf_imp, parameters_rf)\n",
    "\n",
    "cv_score_rf.fit(train_rf_imp_data, train_label['Label'])\n",
    "\n",
    "cv_score_rf.best_score_"
   ]
  },
  {
   "cell_type": "code",
   "execution_count": 152,
   "metadata": {},
   "outputs": [
    {
     "data": {
      "text/plain": [
       "{'max_depth': 10, 'max_features': 9, 'n_estimators': 600}"
      ]
     },
     "execution_count": 152,
     "metadata": {},
     "output_type": "execute_result"
    }
   ],
   "source": [
    "cv_score_rf.best_params_"
   ]
  },
  {
   "cell_type": "code",
   "execution_count": 238,
   "metadata": {},
   "outputs": [
    {
     "name": "stdout",
     "output_type": "stream",
     "text": [
      "accuracy obtained after first iteration: 89.16666666666667\n"
     ]
    }
   ],
   "source": [
    "rf_cv_pred = cv_score_rf.predict(test_rf_imp_data)\n",
    "\n",
    "acc_rf_cv = metrics.accuracy_score(rf_cv_pred,test_label['Label'])\n",
    "\n",
    "print('accuracy obtained after first iteration:',acc_rf_cv*100)"
   ]
  },
  {
   "cell_type": "code",
   "execution_count": 343,
   "metadata": {},
   "outputs": [],
   "source": [
    "##Iteration 2\n",
    "#Best max_depth obtained from previous iteration = 10\n",
    "parameters_rf = {\n",
    "                'max_depth': [10],\n",
    "                'max_features': [1,3,6,7,9,10,15],\n",
    "                'n_estimators': [600]\n",
    "                }"
   ]
  },
  {
   "cell_type": "code",
   "execution_count": 344,
   "metadata": {},
   "outputs": [
    {
     "data": {
      "text/plain": [
       "0.861"
      ]
     },
     "execution_count": 344,
     "metadata": {},
     "output_type": "execute_result"
    }
   ],
   "source": [
    "cv_score_rf=GridSearchCV(rf_imp, parameters_rf)\n",
    "\n",
    "cv_score_rf.fit(train_rf_imp_data, train_label['Label'])\n",
    "\n",
    "cv_score_rf.best_score_"
   ]
  },
  {
   "cell_type": "code",
   "execution_count": 345,
   "metadata": {},
   "outputs": [
    {
     "data": {
      "text/plain": [
       "{'max_depth': 10, 'max_features': 10, 'n_estimators': 600}"
      ]
     },
     "execution_count": 345,
     "metadata": {},
     "output_type": "execute_result"
    }
   ],
   "source": [
    "cv_score_rf.best_params_"
   ]
  },
  {
   "cell_type": "code",
   "execution_count": 346,
   "metadata": {},
   "outputs": [
    {
     "name": "stdout",
     "output_type": "stream",
     "text": [
      "accuracy obtained after second iteration: 88.33333333333333\n"
     ]
    }
   ],
   "source": [
    "rf_cv_pred = cv_score_rf.predict(test_rf_imp_data)\n",
    "\n",
    "acc_rf_cv = metrics.accuracy_score(rf_cv_pred,test_label['Label'])\n",
    "\n",
    "print('accuracy obtained after second iteration:',acc_rf_cv*100)"
   ]
  },
  {
   "cell_type": "code",
   "execution_count": 347,
   "metadata": {},
   "outputs": [],
   "source": [
    "##Iteration 3\n",
    "#Best value of 'max_features' obtained from previous iteration = 9\n",
    "parameters_rf = {\n",
    "                'max_depth': [10],\n",
    "                'max_features': [10],\n",
    "                'n_estimators': list(np.arange(100,1101,100))\n",
    "                }"
   ]
  },
  {
   "cell_type": "code",
   "execution_count": 348,
   "metadata": {},
   "outputs": [
    {
     "data": {
      "text/plain": [
       "0.864"
      ]
     },
     "execution_count": 348,
     "metadata": {},
     "output_type": "execute_result"
    }
   ],
   "source": [
    "cv_score_rf=GridSearchCV(rf_imp, parameters_rf)\n",
    "\n",
    "cv_score_rf.fit(train_rf_imp_data, train_label['Label'])\n",
    "\n",
    "cv_score_rf.best_score_"
   ]
  },
  {
   "cell_type": "code",
   "execution_count": 349,
   "metadata": {},
   "outputs": [
    {
     "data": {
      "text/plain": [
       "{'max_depth': 10, 'max_features': 10, 'n_estimators': 400}"
      ]
     },
     "execution_count": 349,
     "metadata": {},
     "output_type": "execute_result"
    }
   ],
   "source": [
    "cv_score_rf.best_params_"
   ]
  },
  {
   "cell_type": "code",
   "execution_count": 350,
   "metadata": {},
   "outputs": [
    {
     "name": "stdout",
     "output_type": "stream",
     "text": [
      "accuracy obtained after third iteration: 88.33333333333333\n"
     ]
    }
   ],
   "source": [
    "rf_cv_pred = cv_score_rf.predict(test_rf_imp_data)\n",
    "\n",
    "acc_rf_cv = metrics.accuracy_score(rf_cv_pred,test_label['Label'])\n",
    "\n",
    "print('accuracy obtained after third iteration:',acc_rf_cv*100)"
   ]
  },
  {
   "cell_type": "markdown",
   "metadata": {},
   "source": [
    "The accuracy is lower than the accuracy obtained when choosing original 18 important features. This can be because the best combination of parameters can be choosen by iterating over one parameter at a time."
   ]
  },
  {
   "cell_type": "code",
   "execution_count": 247,
   "metadata": {},
   "outputs": [],
   "source": [
    "#Below are the features which are obtained on running multiple iterations of parameters using grid search CV\n",
    "parameters_rf_best = {\n",
    "                'max_depth': [25],\n",
    "                'max_features': [12],\n",
    "                'n_estimators': [600]\n",
    "                }"
   ]
  },
  {
   "cell_type": "code",
   "execution_count": 248,
   "metadata": {},
   "outputs": [
    {
     "data": {
      "text/plain": [
       "0.863"
      ]
     },
     "execution_count": 248,
     "metadata": {},
     "output_type": "execute_result"
    }
   ],
   "source": [
    "cv_score_rf=GridSearchCV(rf_imp, parameters_rf_best)\n",
    "\n",
    "cv_score_rf.fit(train_rf_imp_data, train_label['Label'])\n",
    "\n",
    "cv_score_rf.best_score_"
   ]
  },
  {
   "cell_type": "code",
   "execution_count": 249,
   "metadata": {},
   "outputs": [
    {
     "data": {
      "text/plain": [
       "{'max_depth': 25, 'max_features': 12, 'n_estimators': 600}"
      ]
     },
     "execution_count": 249,
     "metadata": {},
     "output_type": "execute_result"
    }
   ],
   "source": [
    "cv_score_rf.best_params_"
   ]
  },
  {
   "cell_type": "code",
   "execution_count": 307,
   "metadata": {},
   "outputs": [
    {
     "name": "stdout",
     "output_type": "stream",
     "text": [
      "accuracy obtained after getting best features from changing all featues in gridsearchCV: 88.66666666666667\n"
     ]
    }
   ],
   "source": [
    "rf_cv_pred = cv_score_rf.predict(test_rf_imp_data)\n",
    "\n",
    "acc_rf_cv = metrics.accuracy_score(rf_cv_pred,test_label['Label'])\n",
    "\n",
    "print('accuracy obtained after getting best features from changing all featues in gridsearchCV:',acc_rf_cv*100)\n",
    "\n",
    "#Best accuracy of 89.1% is obtained using grid search cross validation"
   ]
  },
  {
   "cell_type": "markdown",
   "metadata": {},
   "source": [
    "### KNN Algorithm"
   ]
  },
  {
   "cell_type": "code",
   "execution_count": 309,
   "metadata": {},
   "outputs": [
    {
     "name": "stdout",
     "output_type": "stream",
     "text": [
      "maximum accuracy of 62.5 is obtained for value of k= 6\n"
     ]
    },
    {
     "data": {
      "image/png": "[encoded data removed]",
      "text/plain": [
       "<Figure size 432x288 with 1 Axes>"
      ]
     },
     "metadata": {},
     "output_type": "display_data"
    }
   ],
   "source": [
    "#Baseline KNN for different values of k\n",
    "k = range(5, 555, 50)\n",
    "acc_knn=[]\n",
    "for i in k:\n",
    "    knn = KNeighborsClassifier(n_neighbors=i)  \n",
    "    knn.fit(train_data_norm, train_label['Label'])\n",
    "    pred_knn = knn.predict(test_data_norm)\n",
    "    acc = metrics.accuracy_score(test_label['Label'], pred_knn)\n",
    "    if acc>max_acc:\n",
    "        max_acc=acc\n",
    "        max_k=i\n",
    "    acc_knn.append(acc)\n",
    "    \n",
    "plt.plot(k,acc_knn)\n",
    "print('maximum accuracy of', max_acc, 'is obtained for value of k=',max_k)"
   ]
  },
  {
   "cell_type": "markdown",
   "metadata": {},
   "source": [
    "Baseline KNN Classifier with accuracy of 62.5% is obtained for value of k=6"
   ]
  },
  {
   "cell_type": "code",
   "execution_count": 351,
   "metadata": {},
   "outputs": [
    {
     "name": "stdout",
     "output_type": "stream",
     "text": [
      "MAX ACCURACY: 91.66666666666666\n",
      "value of k at max acc: 6\n",
      "number of features considered at best accuracy: 13\n"
     ]
    }
   ],
   "source": [
    "#applying knn to the best features obtained from random forest classifier\n",
    "#Testing feature importance\n",
    "max_acc=0\n",
    "best_k=0\n",
    "best_n=0\n",
    "acc_knn=[]\n",
    "n_features=range(1,20,1)\n",
    "for n in n_features:\n",
    "    rf_imp_features = RFmodel.feature_importances_.argsort()[::-1][:n]\n",
    "    train_rf_imp_data = train_data_norm.iloc[:,rf_imp_features]\n",
    "    test_rf_imp_data = test_data_norm.iloc[:,rf_imp_features]\n",
    "\n",
    "    k = range(1, 25, 1)\n",
    "    #max_acc=0\n",
    "    #max_k=0\n",
    "    for i in k:\n",
    "        knn = KNeighborsClassifier(n_neighbors=i)  \n",
    "        knn.fit(train_rf_imp_data, train_label['Label'])\n",
    "        pred_knn = knn.predict(test_rf_imp_data)\n",
    "        acc = metrics.accuracy_score(test_label['Label'], pred_knn)\n",
    "        if acc>max_acc:\n",
    "            max_acc=acc\n",
    "            best_k=i\n",
    "            best_n=n\n",
    "        acc_knn.append(acc)\n",
    "    \n",
    "print('MAX ACCURACY:',max_acc*100)\n",
    "print('value of k at max acc:',best_k)\n",
    "print('number of features considered at best accuracy:',best_n)"
   ]
  },
  {
   "cell_type": "markdown",
   "metadata": {},
   "source": [
    "Applying KNN on the best features obtained from Random Forest Classifier gives a maximum accuracy of 91.6% when 13 features are taken from random forest and value of k=6"
   ]
  },
  {
   "cell_type": "code",
   "execution_count": 201,
   "metadata": {},
   "outputs": [
    {
     "name": "stdout",
     "output_type": "stream",
     "text": [
      "max accuracy: 79.5\n",
      "value of k at max acc: 15\n"
     ]
    },
    {
     "data": {
      "image/png": "[encoded data removed]",
      "text/plain": [
       "<Figure size 432x288 with 1 Axes>"
      ]
     },
     "metadata": {},
     "output_type": "display_data"
    }
   ],
   "source": [
    "#applying knn t0 the best features obtained from k best features\n",
    "#Testing feature importance\n",
    "k = range(1, train_data_norm_kbest.shape[1], 1)\n",
    "acc_knn=[]\n",
    "max_acc=0\n",
    "max_k=0\n",
    "for i in range(1,train_data_norm_kbest.shape[1]):\n",
    "    knn = KNeighborsClassifier(n_neighbors=i)  \n",
    "    knn.fit(train_data_norm_kbest, train_label['Label'])\n",
    "    pred_knn = knn.predict(test_data_norm_kbest)\n",
    "    acc = metrics.accuracy_score(test_label['Label'], pred_knn)\n",
    "    if acc>max_acc:\n",
    "        max_acc=acc\n",
    "        max_k=i\n",
    "    acc_knn.append(acc)\n",
    "    \n",
    "plt.plot(k,acc_knn)\n",
    "plt.xlabel('k')\n",
    "plt.ylabel('accuracy score(in %)')\n",
    "print('max accuracy:',max_acc*100)\n",
    "print('value of k at max acc:',max_k)"
   ]
  },
  {
   "cell_type": "markdown",
   "metadata": {},
   "source": [
    "Applying KNN on the best K features obtained using 'SelectKBest' feature selection gives a best accuracy of 79.5% for 15 best features"
   ]
  },
  {
   "cell_type": "code",
   "execution_count": 180,
   "metadata": {},
   "outputs": [
    {
     "name": "stdout",
     "output_type": "stream",
     "text": [
      "max accuracy: 60.66666666666667\n",
      "value of k at max acc: 12\n",
      "number of components for max acc: 13\n"
     ]
    }
   ],
   "source": [
    "#using knn on principal components\n",
    "max_acc=0\n",
    "max_k=0\n",
    "max_comp=n=0\n",
    "n_comp = list(np.arange(1,50))\n",
    "for n in n_comp:\n",
    "    pca=PCA(n_components=n)\n",
    "    train_data_knn_pca = pca.fit_transform(train_data_norm)\n",
    "    test_data_knn_pca = pca.fit_transform(test_data_norm)\n",
    "    \n",
    "    for i in range(1,n):\n",
    "        knn = KNeighborsClassifier(n_neighbors=i)  \n",
    "        knn.fit(train_data_knn_pca, train_label['Label'])\n",
    "        pred_knn_pca = knn.predict(test_data_knn_pca)\n",
    "        acc = metrics.accuracy_score(test_label['Label'], pred_knn_pca)\n",
    "        if acc>max_acc:\n",
    "            max_acc=acc\n",
    "            max_k=i\n",
    "            max_comp=n\n",
    "        acc_knn.append(acc)\n",
    "\n",
    "print('max accuracy:',max_acc*100)\n",
    "print('value of k at max acc:',max_k)\n",
    "print('number of components for max acc:',max_comp)\n",
    "    "
   ]
  },
  {
   "cell_type": "markdown",
   "metadata": {},
   "source": [
    "### SVM"
   ]
  },
  {
   "cell_type": "code",
   "execution_count": 311,
   "metadata": {},
   "outputs": [
    {
     "data": {
      "text/plain": [
       "SVC(C=1.0, cache_size=200, class_weight=None, coef0=0.0,\n",
       "  decision_function_shape='ovr', degree=3, gamma='auto', kernel='linear',\n",
       "  max_iter=-1, probability=False, random_state=None, shrinking=True,\n",
       "  tol=0.001, verbose=False)"
      ]
     },
     "execution_count": 311,
     "metadata": {},
     "output_type": "execute_result"
    }
   ],
   "source": [
    "#Implementing linear svm\n",
    "from sklearn.svm import SVC  \n",
    "svc0 = SVC(kernel='linear')  \n",
    "svc0.fit(train_data_norm, train_label['Label'])"
   ]
  },
  {
   "cell_type": "code",
   "execution_count": 312,
   "metadata": {},
   "outputs": [
    {
     "name": "stdout",
     "output_type": "stream",
     "text": [
      "Accuracy using linear SVM: 58.5\n"
     ]
    }
   ],
   "source": [
    "#Predicting using linear svm\n",
    "svc0_pred = svc0.predict(test_data_norm)\n",
    "\n",
    "acc_svc0 = metrics.accuracy_score(svc0_pred, test_label['Label'])\n",
    "print('Accuracy using linear SVM:',acc_svc0*100)"
   ]
  },
  {
   "cell_type": "code",
   "execution_count": 313,
   "metadata": {},
   "outputs": [
    {
     "name": "stdout",
     "output_type": "stream",
     "text": [
      "Accuracy using polynomial SVM of degree 1 : 58.166666666666664\n",
      "Accuracy using polynomial SVM of degree 2 : 58.666666666666664\n",
      "Accuracy using polynomial SVM of degree 3 : 57.833333333333336\n",
      "Accuracy using polynomial SVM of degree 4 : 50.33333333333333\n",
      "Accuracy using polynomial SVM of degree 5 : 50.0\n"
     ]
    }
   ],
   "source": [
    "#Implementing polynomial kernel\n",
    "for d in range(1, 6):\n",
    "    svc1 = SVC(kernel='poly', degree=d)\n",
    "    svc1.fit(train_data_norm, train_label['Label'])\n",
    "\n",
    "    #Predicting using polynomial kernel\n",
    "    svc1_pred = svc1.predict(test_data_norm)\n",
    "\n",
    "    acc_svc1 = metrics.accuracy_score(svc1_pred, test_label['Label'])\n",
    "    print('Accuracy using polynomial SVM of degree',d,':',acc_svc1*100)\n",
    "    \n",
    "##Max accracy is obtained at degree=2"
   ]
  },
  {
   "cell_type": "code",
   "execution_count": 314,
   "metadata": {},
   "outputs": [
    {
     "name": "stdout",
     "output_type": "stream",
     "text": [
      "Accuracy using gaussian SVM: 58.166666666666664\n"
     ]
    }
   ],
   "source": [
    "#Implementing gaussian kernel\n",
    "svc2 = SVC(kernel='rbf')  \n",
    "svc2.fit(train_data_norm, train_label['Label'])  \n",
    "\n",
    "#Predicting using Gaussian kernel\n",
    "svc2_pred = svc2.predict(test_data_norm)\n",
    "\n",
    "acc_svc2 = metrics.accuracy_score(svc2_pred, test_label['Label'])\n",
    "print('Accuracy using gaussian SVM:',acc_svc2*100)\n"
   ]
  },
  {
   "cell_type": "code",
   "execution_count": 315,
   "metadata": {},
   "outputs": [
    {
     "name": "stdout",
     "output_type": "stream",
     "text": [
      "Accuracy using sigmoid SVM: 58.333333333333336\n"
     ]
    }
   ],
   "source": [
    "#Implementing sigmoid kernel\n",
    "\n",
    "svc3 = SVC(kernel='sigmoid')  \n",
    "svc3.fit(train_data_norm, train_label['Label'])  \n",
    "\n",
    "#Predicting using sigmoid kernel\n",
    "svc3_pred = svc3.predict(test_data_norm)\n",
    "\n",
    "acc_svc3 = metrics.accuracy_score(svc3_pred, test_label['Label'])\n",
    "print('Accuracy using sigmoid SVM:',acc_svc3*100)"
   ]
  },
  {
   "cell_type": "code",
   "execution_count": 322,
   "metadata": {
    "scrolled": true
   },
   "outputs": [
    {
     "name": "stdout",
     "output_type": "stream",
     "text": [
      "Accuracy using Gaussian SVM on best features obtained from RF: 82.66666666666667\n"
     ]
    }
   ],
   "source": [
    "#Using SVM on best features obtained from random forest \n",
    "svc4 = SVC(kernel='rbf')\n",
    "svc4.fit(train_rf_imp_data, train_label['Label'])\n",
    "\n",
    "#Predicting using sigmoid kernel\n",
    "svc_rf_pred = svc4.predict(test_rf_imp_data)\n",
    "\n",
    "acc_svc_rf = metrics.accuracy_score(test_label['Label'], svc_rf_pred)\n",
    "print('Accuracy using Gaussian SVM on best features obtained from RF:',acc_svc_rf*100)"
   ]
  },
  {
   "cell_type": "markdown",
   "metadata": {},
   "source": [
    "### Appendix"
   ]
  },
  {
   "cell_type": "code",
   "execution_count": 327,
   "metadata": {},
   "outputs": [
    {
     "name": "stdout",
     "output_type": "stream",
     "text": [
      "maximum accuracy of 57.99999999999999 is obtained for k= 1\n"
     ]
    },
    {
     "data": {
      "image/png": "[encoded data removed]",
      "text/plain": [
       "<Figure size 432x288 with 1 Axes>"
      ]
     },
     "metadata": {},
     "output_type": "display_data"
    }
   ],
   "source": [
    "#Implementing LDA for geeting the most correlated pairs with the output class and then training LR model\n",
    "l = range(1,25,1)\n",
    "max_acc=0\n",
    "best_l=0\n",
    "acc_score_lbest=[]\n",
    "for i in l:\n",
    "    lda = LinearDiscriminantAnalysis(n_components=i)\n",
    "    train_data_lda = lda.fit_transform(train_data_norm, train_label['Label'])\n",
    "    test_data_lda = lda.transform(test_data_norm)\n",
    "\n",
    "    #Logistic Regression using LDA features\n",
    "    lr_lda = LogisticRegression(penalty='l2', C=1)\n",
    "    lr_lda.fit(train_data_lda,train_label['Label'])\n",
    "    pred_lr_lda = lr_lda.predict(test_data_lda)\n",
    "\n",
    "    #Checking accuracy score\n",
    "    acc = metrics.accuracy_score(test_label['Label'], pred_lr_lda)*100\n",
    "    #print(acc)\n",
    "    if acc>max_acc:\n",
    "            max_acc=acc\n",
    "            best_l=i\n",
    "    acc_score_lbest.append(acc)\n",
    "    \n",
    "plt.plot(l,acc_score_lbest)\n",
    "print('maximum accuracy of',max_acc,'is obtained for k=',best_l)"
   ]
  },
  {
   "cell_type": "markdown",
   "metadata": {},
   "source": [
    "### Gradient Boosting"
   ]
  },
  {
   "cell_type": "code",
   "execution_count": null,
   "metadata": {},
   "outputs": [],
   "source": [
    "parameters = {'learning_rate': [0.01],\n",
    "              'max_depth': [15],\n",
    "              'subsample': [0.8],\n",
    "              'n_estimators': [600],\n",
    "              'max_features': [6]\n",
    "             }             "
   ]
  },
  {
   "cell_type": "code",
   "execution_count": null,
   "metadata": {},
   "outputs": [],
   "source": [
    "#Implementing Baseline Gradient Boosting\n",
    "gbm0 = GradientBoostingClassifier(random_state=0)\n",
    "gbm0.fit(train_data,train_label['Label'])\n",
    "\n",
    "gbm_pred = gbm0.predict(test_data)\n",
    "\n",
    "gbm_acc = metrics.accuracy_score(test_label['Label'],gbm_pred)\n",
    "\n",
    "gbm_acc"
   ]
  },
  {
   "cell_type": "code",
   "execution_count": null,
   "metadata": {},
   "outputs": [],
   "source": [
    "n_features = 20\n",
    "train_data_gbm = train_data.iloc[:,gbm0.feature_importances_.argsort()[::-1][:n_features]]\n",
    "test_data_gbm = test_data.iloc[:,gbm0.feature_importances_.argsort()[::-1][:n_features]]"
   ]
  },
  {
   "cell_type": "code",
   "execution_count": null,
   "metadata": {},
   "outputs": [],
   "source": [
    "cv_score=GridSearchCV(gbm0, parameters, refit=True, n_jobs=-1)\n",
    "\n",
    "cv_score.fit(train_data_gbm, train_label['Label'])\n",
    "\n",
    "cv_score.best_score_"
   ]
  },
  {
   "cell_type": "code",
   "execution_count": null,
   "metadata": {},
   "outputs": [],
   "source": [
    "gbm_cv_pred = cv_score.predict(test_data_gbm)\n",
    "\n",
    "acc_gbm_cv = metrics.accuracy_score(gbm_cv_pred,test_label['Label'])\n",
    "\n",
    "acc_gbm_cv"
   ]
  },
  {
   "cell_type": "code",
   "execution_count": null,
   "metadata": {},
   "outputs": [],
   "source": [
    "cv_score.best_params_"
   ]
  },
  {
   "cell_type": "markdown",
   "metadata": {},
   "source": [
    "## Testing"
   ]
  },
  {
   "cell_type": "code",
   "execution_count": null,
   "metadata": {},
   "outputs": [],
   "source": []
  }
 ],
 "metadata": {
  "kernelspec": {
   "display_name": "Python 3",
   "language": "python",
   "name": "python3"
  },
  "language_info": {
   "codemirror_mode": {
    "name": "ipython",
    "version": 3
   },
   "file_extension": ".py",
   "mimetype": "text/x-python",
   "name": "python",
   "nbconvert_exporter": "python",
   "pygments_lexer": "ipython3",
   "version": "3.6.5"
  }
 },
 "nbformat": 4,
 "nbformat_minor": 2
}
